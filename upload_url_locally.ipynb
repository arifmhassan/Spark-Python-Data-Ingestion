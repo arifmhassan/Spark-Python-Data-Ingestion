{
  "nbformat": 4,
  "nbformat_minor": 0,
  "metadata": {
    "colab": {
      "name": "upload url locally.ipynb",
      "provenance": [],
      "collapsed_sections": [],
      "toc_visible": true,
      "include_colab_link": true
    },
    "kernelspec": {
      "name": "python3",
      "display_name": "Python 3"
    }
  },
  "cells": [
    {
      "cell_type": "markdown",
      "metadata": {
        "id": "view-in-github",
        "colab_type": "text"
      },
      "source": [
        "<a href=\"https://colab.research.google.com/github/arifmhassan/Spark-Python-Data-Ingestion/blob/master/upload_url_locally.ipynb\" target=\"_parent\"><img src=\"https://colab.research.google.com/assets/colab-badge.svg\" alt=\"Open In Colab\"/></a>"
      ]
    },
    {
      "cell_type": "markdown",
      "metadata": {
        "id": "jRIcy-DU1KHK",
        "colab_type": "text"
      },
      "source": [
        "# Read csv files in different format\n",
        "1.create function read file names with current date\n",
        "2.load raw file into repository\n",
        "  with function\n",
        "  with wget\n",
        "  with curl\n",
        "3. clean data clean null values to default value with function\n",
        "4. transform data aggregatge many many ways\n",
        "5. load that data into datawarehouse\n",
        "6. Read that file sql query\n"
      ]
    },
    {
      "cell_type": "code",
      "metadata": {
        "id": "6J9SceP_rXfl",
        "colab_type": "code",
        "colab": {}
      },
      "source": [
        "# create sample file\n",
        "%cp sample_data/california_housing_test.csv  sample_data/california_housing_14_06_2020.csv"
      ],
      "execution_count": 0,
      "outputs": []
    },
    {
      "cell_type": "code",
      "metadata": {
        "id": "sBsI1Ak_sDI7",
        "colab_type": "code",
        "colab": {}
      },
      "source": [
        "'''\n",
        "# Read dynamic file with monthddyear format\n",
        "create function \n",
        "\n",
        "'''\n",
        "def read_csv_file():\n",
        "  import pandas as pd\n",
        "#declare variable\n",
        "  from datetime import date\n",
        "\n",
        "  Var = date.today().strftime(\"%d_%m_%Y\")\n",
        "  '''print(Var)'''\n",
        "\n",
        "\n",
        "  PATH = r'sample_data/california_housing_' + Var + '.csv' #(use \"r\" before the path string to address special character, such as '\\'). Don't forget to put the file name at the end of the path + '.csv'\n",
        "  read_file = pd.read_csv (PATH)   #read the csv file using the 'PATH' varibale \n",
        "  return(read_file)\n"
      ],
      "execution_count": 0,
      "outputs": []
    },
    {
      "cell_type": "code",
      "metadata": {
        "id": "mWpf2qTSFomO",
        "colab_type": "code",
        "colab": {}
      },
      "source": [
        "read_csv_file().sort_values(by=['housing_median_age'], ascending=True)"
      ],
      "execution_count": 0,
      "outputs": []
    },
    {
      "cell_type": "code",
      "metadata": {
        "id": "0Cq0mSwVoAFv",
        "colab_type": "code",
        "colab": {}
      },
      "source": [
        "read_csv_file().groupby(['housing_median_age'])['median_income'].median()"
      ],
      "execution_count": 0,
      "outputs": []
    },
    {
      "cell_type": "markdown",
      "metadata": {
        "id": "noxQes2UVaTI",
        "colab_type": "text"
      },
      "source": [
        "upload  url file locally"
      ]
    },
    {
      "cell_type": "code",
      "metadata": {
        "id": "SruzAijtVgd7",
        "colab_type": "code",
        "colab": {}
      },
      "source": [
        "'''\n",
        "# load url  file into local drive\n",
        "create function \n",
        "\n",
        "'''\n",
        "import os\n",
        "from six.moves import urllib\n",
        "\n",
        "DOWNLOAD_ROOT =\"https://raw.githubusercontent.com/ageron/handson-ml/master/\"\n",
        "'''https://raw.githubusercontent.com/ageron/handson-ml/master/datasets/housing/housing.csv'''\n",
        "HOUSING_PATH = os.path.join(\"datasets\", \"housing\")\n",
        "'''HOUSING_URL = DOWNLOAD_ROOT + \"datasets/housing/housing.tgz\"'''\n",
        "HOUSING_URL = DOWNLOAD_ROOT + \"datasets/housing/housing.csv\"\n",
        "\n",
        "def fetch_housing_data(housing_url=HOUSING_URL, housing_path=HOUSING_PATH):\n",
        "    os.makedirs(housing_path, exist_ok=True)\n",
        "    csv_path = os.path.join(housing_path, \"housing.csv\")\n",
        "    urllib.request.urlretrieve(housing_url, csv_path)"
      ],
      "execution_count": 0,
      "outputs": []
    },
    {
      "cell_type": "code",
      "metadata": {
        "id": "4wrZz--cWENV",
        "colab_type": "code",
        "colab": {}
      },
      "source": [
        "fetch_housing_data()\n",
        "%cat datasets/housing/housing.csv\n"
      ],
      "execution_count": 0,
      "outputs": []
    },
    {
      "cell_type": "code",
      "metadata": {
        "id": "rGWLYHKbfogl",
        "colab_type": "code",
        "colab": {
          "base_uri": "https://localhost:8080/",
          "height": 196
        },
        "outputId": "a2abf284-4041-43b1-cf6d-9885be842747"
      },
      "source": [
        "'''\n",
        "# load url  file into local drive\n",
        "shell command\n",
        "\n",
        "'''\n",
        "\n",
        "%shell wget -P /github https://raw.githubusercontent.com/ageron/handson-ml/master/datasets/housing/housing.csv"
      ],
      "execution_count": 12,
      "outputs": [
        {
          "output_type": "stream",
          "text": [
            "--2020-06-14 14:04:48--  https://raw.githubusercontent.com/ageron/handson-ml/master/datasets/housing/housing.csv\n",
            "Resolving raw.githubusercontent.com (raw.githubusercontent.com)... 151.101.0.133, 151.101.64.133, 151.101.128.133, ...\n",
            "Connecting to raw.githubusercontent.com (raw.githubusercontent.com)|151.101.0.133|:443... connected.\n",
            "HTTP request sent, awaiting response... 200 OK\n",
            "Length: 1423529 (1.4M) [text/plain]\n",
            "Saving to: ‘/github/housing.csv’\n",
            "\n",
            "\rhousing.csv           0%[                    ]       0  --.-KB/s               \rhousing.csv         100%[===================>]   1.36M  8.64MB/s    in 0.2s    \n",
            "\n",
            "2020-06-14 14:04:48 (8.64 MB/s) - ‘/github/housing.csv’ saved [1423529/1423529]\n",
            "\n"
          ],
          "name": "stdout"
        },
        {
          "output_type": "execute_result",
          "data": {
            "text/plain": [
              ""
            ]
          },
          "metadata": {
            "tags": []
          },
          "execution_count": 12
        }
      ]
    },
    {
      "cell_type": "code",
      "metadata": {
        "id": "fWkuL4LgJZU3",
        "colab_type": "code",
        "colab": {}
      },
      "source": [
        "%cat /github/housing.csv\n"
      ],
      "execution_count": 0,
      "outputs": []
    },
    {
      "cell_type": "code",
      "metadata": {
        "colab_type": "code",
        "id": "oIPbo_yYPDmu",
        "colab": {}
      },
      "source": [
        "%ls handson-ml2/datasets/housing/housing.csv\n",
        "%cat handson-ml2/datasets/housing/housing.csv"
      ],
      "execution_count": 0,
      "outputs": []
    },
    {
      "cell_type": "code",
      "metadata": {
        "id": "7vvhl96MvNPp",
        "colab_type": "code",
        "colab": {}
      },
      "source": [
        "%ls handson-ml2/datasets/housing/housing.csv\n",
        "%cat handson-ml2/datasets/housing/housing.csv"
      ],
      "execution_count": 0,
      "outputs": []
    },
    {
      "cell_type": "code",
      "metadata": {
        "id": "wz08TESw04GD",
        "colab_type": "code",
        "colab": {}
      },
      "source": [
        "# load url  file into local drive\n",
        "#bash clone command\n",
        "%%bash\n",
        "\n",
        "git clone https://github.com/ageron/handson-ml2"
      ],
      "execution_count": 0,
      "outputs": []
    },
    {
      "cell_type": "code",
      "metadata": {
        "id": "OuAIs1g5P0Hj",
        "colab_type": "code",
        "colab": {}
      },
      "source": [
        "%cat  handson-ml2/datasets/housing/housing.csv"
      ],
      "execution_count": 0,
      "outputs": []
    }
  ]
}