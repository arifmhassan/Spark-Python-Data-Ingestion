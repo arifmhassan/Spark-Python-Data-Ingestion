{
  "nbformat": 4,
  "nbformat_minor": 0,
  "metadata": {
    "colab": {
      "name": "RetailSalespythonRegression.ipynb",
      "provenance": [],
      "toc_visible": true,
      "authorship_tag": "ABX9TyMq+xS1lF3bVWA9w02bCbbO",
      "include_colab_link": true
    },
    "kernelspec": {
      "name": "python3",
      "display_name": "Python 3"
    }
  },
  "cells": [
    {
      "cell_type": "markdown",
      "metadata": {
        "id": "view-in-github",
        "colab_type": "text"
      },
      "source": [
        "<a href=\"https://colab.research.google.com/github/arifmhassan/Spark-Python-Data-Ingestion/blob/master/RetailSalespythonRegression.ipynb\" target=\"_parent\"><img src=\"https://colab.research.google.com/assets/colab-badge.svg\" alt=\"Open In Colab\"/></a>"
      ]
    },
    {
      "cell_type": "markdown",
      "metadata": {
        "id": "Fj53uw-xqzym",
        "colab_type": "text"
      },
      "source": [
        "This section course Highlight"
      ]
    },
    {
      "cell_type": "code",
      "metadata": {
        "id": "XaRsyQPRq32H",
        "colab_type": "code",
        "colab": {}
      },
      "source": [
        "# initialize spark\n",
        "!apt-get install openjdk-8-jdk-headless -qq > /dev/null\n",
        "!wget -q https://www-us.apache.org/dist/spark/spark-2.4.5/spark-2.4.5-bin-hadoop2.7.tgz \n",
        "!tar xf spark-2.4.5-bin-hadoop2.7.tgz \n",
        "!pip install -q findspark\n",
        "import os\n",
        "os.environ[\"JAVA_HOME\"] = \"/usr/lib/jvm/java-8-openjdk-amd64\"\n",
        "os.environ[\"SPARK_HOME\"] = \"/content/spark-2.4.5-bin-hadoop2.7\"\n",
        "\n",
        "!pip install -q findspark\n",
        "import os\n",
        "os.environ[\"JAVA_HOME\"] = \"/usr/lib/jvm/java-8-openjdk-amd64\"\n",
        "os.environ[\"SPARK_HOME\"] = \"/content/spark-2.4.5-bin-hadoop2.7\"\n",
        "\n",
        "import findspark\n",
        "findspark.init()\n",
        "from pyspark.sql import SparkSession\n",
        "spark=SparkSession.builder.master(\"local[*]\").getOrCreate()"
      ],
      "execution_count": 319,
      "outputs": []
    },
    {
      "cell_type": "markdown",
      "metadata": {
        "id": "9Ua07LmioICV",
        "colab_type": "text"
      },
      "source": [
        "# Regression"
      ]
    },
    {
      "cell_type": "code",
      "metadata": {
        "id": "u2S4SBlpsq9n",
        "colab_type": "code",
        "colab": {
          "base_uri": "https://localhost:8080/",
          "height": 34
        },
        "outputId": "b01520ef-7b64-474b-860b-f2facc8eac44"
      },
      "source": [
        "# Source  git branch clone\n",
        "\n",
        "%%bash\n",
        "#-b my-branch\n",
        "git clone -b master https://github.com/databricks/Spark-The-Definitive-Guide.git master"
      ],
      "execution_count": 320,
      "outputs": [
        {
          "output_type": "stream",
          "text": [
            "fatal: destination path 'master' already exists and is not an empty directory.\n"
          ],
          "name": "stderr"
        }
      ]
    },
    {
      "cell_type": "code",
      "metadata": {
        "id": "HUcHDjESuO3O",
        "colab_type": "code",
        "colab": {
          "base_uri": "https://localhost:8080/",
          "height": 34
        },
        "outputId": "0e0789fd-c3e6-423c-eb43-8b39c26dc1a0"
      },
      "source": [
        "ls master/data/retail-data/all"
      ],
      "execution_count": 321,
      "outputs": [
        {
          "output_type": "stream",
          "text": [
            "online-retail-dataset.csv\n"
          ],
          "name": "stdout"
        }
      ]
    },
    {
      "cell_type": "code",
      "metadata": {
        "id": "RJePEBwvsuw3",
        "colab_type": "code",
        "colab": {}
      },
      "source": [
        "sales=spark.read.format(\"csv\").option(\"header\", \"true\").option(\"inferSchema\", \"true\").load(\"master/data/retail-data/all/online-retail-dataset.csv\")"
      ],
      "execution_count": 322,
      "outputs": []
    },
    {
      "cell_type": "code",
      "metadata": {
        "id": "__bINy65uaLa",
        "colab_type": "code",
        "colab": {
          "base_uri": "https://localhost:8080/",
          "height": 141
        },
        "outputId": "d8fd47d1-3716-4046-c5aa-f2af93b1240e"
      },
      "source": [
        "sales.show(1,False)"
      ],
      "execution_count": 323,
      "outputs": [
        {
          "output_type": "stream",
          "text": [
            "+---------+---------+----------------------------------+--------+--------------+---------+----------+--------------+\n",
            "|InvoiceNo|StockCode|Description                       |Quantity|InvoiceDate   |UnitPrice|CustomerID|Country       |\n",
            "+---------+---------+----------------------------------+--------+--------------+---------+----------+--------------+\n",
            "|536365   |85123A   |WHITE HANGING HEART T-LIGHT HOLDER|6       |12/1/2010 8:26|2.55     |17850     |United Kingdom|\n",
            "+---------+---------+----------------------------------+--------+--------------+---------+----------+--------------+\n",
            "only showing top 1 row\n",
            "\n"
          ],
          "name": "stdout"
        }
      ]
    },
    {
      "cell_type": "code",
      "metadata": {
        "id": "FTEtI94Qvn4B",
        "colab_type": "code",
        "colab": {
          "base_uri": "https://localhost:8080/",
          "height": 425
        },
        "outputId": "1438eed3-8f93-4284-988a-4bc9072f9b24"
      },
      "source": [
        "from pyspark.ml.feature import HashingTF, IDF, Tokenizer\n",
        "\n",
        "sales\n",
        "\n",
        "tokenizer = Tokenizer(inputCol=\"Description\", outputCol=\"words\")\n",
        "wordsData = tokenizer.transform(sales)\n",
        "wordsData.show(1,False)\n",
        "hashingTF = HashingTF(inputCol=\"words\", outputCol=\"rawFeatures\", numFeatures=20)\n",
        "featurizedData = hashingTF.transform(wordsData)\n",
        "featurizedData.show(10,False)\n",
        "\n"
      ],
      "execution_count": 324,
      "outputs": [
        {
          "output_type": "stream",
          "text": [
            "+---------+---------+----------------------------------+--------+--------------+---------+----------+--------------+----------------------------------------+\n",
            "|InvoiceNo|StockCode|Description                       |Quantity|InvoiceDate   |UnitPrice|CustomerID|Country       |words                                   |\n",
            "+---------+---------+----------------------------------+--------+--------------+---------+----------+--------------+----------------------------------------+\n",
            "|536365   |85123A   |WHITE HANGING HEART T-LIGHT HOLDER|6       |12/1/2010 8:26|2.55     |17850     |United Kingdom|[white, hanging, heart, t-light, holder]|\n",
            "+---------+---------+----------------------------------+--------+--------------+---------+----------+--------------+----------------------------------------+\n",
            "only showing top 1 row\n",
            "\n",
            "+---------+---------+-----------------------------------+--------+--------------+---------+----------+--------------+------------------------------------------+------------------------------------------+\n",
            "|InvoiceNo|StockCode|Description                        |Quantity|InvoiceDate   |UnitPrice|CustomerID|Country       |words                                     |rawFeatures                               |\n",
            "+---------+---------+-----------------------------------+--------+--------------+---------+----------+--------------+------------------------------------------+------------------------------------------+\n",
            "|536365   |85123A   |WHITE HANGING HEART T-LIGHT HOLDER |6       |12/1/2010 8:26|2.55     |17850     |United Kingdom|[white, hanging, heart, t-light, holder]  |(20,[0,8,12,17,18],[1.0,1.0,1.0,1.0,1.0]) |\n",
            "|536365   |71053    |WHITE METAL LANTERN                |6       |12/1/2010 8:26|3.39     |17850     |United Kingdom|[white, metal, lantern]                   |(20,[9,15,17],[1.0,1.0,1.0])              |\n",
            "|536365   |84406B   |CREAM CUPID HEARTS COAT HANGER     |8       |12/1/2010 8:26|2.75     |17850     |United Kingdom|[cream, cupid, hearts, coat, hanger]      |(20,[6,7,14,17],[1.0,2.0,1.0,1.0])        |\n",
            "|536365   |84029G   |KNITTED UNION FLAG HOT WATER BOTTLE|6       |12/1/2010 8:26|3.39     |17850     |United Kingdom|[knitted, union, flag, hot, water, bottle]|(20,[9,11,12,14,18],[1.0,2.0,1.0,1.0,1.0])|\n",
            "|536365   |84029E   |RED WOOLLY HOTTIE WHITE HEART.     |6       |12/1/2010 8:26|3.39     |17850     |United Kingdom|[red, woolly, hottie, white, heart.]      |(20,[2,11,12,16,17],[1.0,1.0,1.0,1.0,1.0])|\n",
            "|536365   |22752    |SET 7 BABUSHKA NESTING BOXES       |2       |12/1/2010 8:26|7.65     |17850     |United Kingdom|[set, 7, babushka, nesting, boxes]        |(20,[0,3,13,16],[1.0,1.0,2.0,1.0])        |\n",
            "|536365   |21730    |GLASS STAR FROSTED T-LIGHT HOLDER  |6       |12/1/2010 8:26|4.25     |17850     |United Kingdom|[glass, star, frosted, t-light, holder]   |(20,[8,10,12,16,18],[1.0,1.0,1.0,1.0,1.0])|\n",
            "|536366   |22633    |HAND WARMER UNION JACK             |6       |12/1/2010 8:28|1.85     |17850     |United Kingdom|[hand, warmer, union, jack]               |(20,[3,7,14,17],[1.0,1.0,1.0,1.0])        |\n",
            "|536366   |22632    |HAND WARMER RED POLKA DOT          |6       |12/1/2010 8:28|1.85     |17850     |United Kingdom|[hand, warmer, red, polka, dot]           |(20,[0,3,11,17],[2.0,1.0,1.0,1.0])        |\n",
            "|536367   |84879    |ASSORTED COLOUR BIRD ORNAMENT      |32      |12/1/2010 8:34|1.69     |13047     |United Kingdom|[assorted, colour, bird, ornament]        |(20,[6,14,15],[1.0,2.0,1.0])              |\n",
            "+---------+---------+-----------------------------------+--------+--------------+---------+----------+--------------+------------------------------------------+------------------------------------------+\n",
            "only showing top 10 rows\n",
            "\n"
          ],
          "name": "stdout"
        }
      ]
    },
    {
      "cell_type": "code",
      "metadata": {
        "id": "hJ3uggQOx2nG",
        "colab_type": "code",
        "colab": {
          "base_uri": "https://localhost:8080/",
          "height": 158
        },
        "outputId": "e542249a-409f-4351-8d69-b8efc22d4b86"
      },
      "source": [
        "simpleDF = spark.read.json(\"master/data/simple-ml\")\n",
        "simpleDF.show(2,False)"
      ],
      "execution_count": 325,
      "outputs": [
        {
          "output_type": "stream",
          "text": [
            "+-----+----+------+------------------+\n",
            "|color|lab |value1|value2            |\n",
            "+-----+----+------+------------------+\n",
            "|green|good|1     |14.386294994851129|\n",
            "|blue |bad |8     |14.386294994851129|\n",
            "+-----+----+------+------------------+\n",
            "only showing top 2 rows\n",
            "\n"
          ],
          "name": "stdout"
        }
      ]
    },
    {
      "cell_type": "code",
      "metadata": {
        "id": "mKB6v3AjziLs",
        "colab_type": "code",
        "colab": {
          "base_uri": "https://localhost:8080/",
          "height": 158
        },
        "outputId": "fedda18b-0eaa-4437-bf79-87c47c72ee39"
      },
      "source": [
        "from pyspark.ml.feature import RFormula\n",
        "\n",
        "supervised = RFormula(formula=\"Country ~ . + Description:Country+StockCode\")\n",
        "supervised.fit(sales).transform(sales).show(2,False)"
      ],
      "execution_count": 326,
      "outputs": [
        {
          "output_type": "stream",
          "text": [
            "+---------+---------+----------------------------------+--------+--------------+---------+----------+--------------+-------------------------------------------------------------------------------------------------+-----+\n",
            "|InvoiceNo|StockCode|Description                       |Quantity|InvoiceDate   |UnitPrice|CustomerID|Country       |features                                                                                         |label|\n",
            "+---------+---------+----------------------------------+--------+--------------+---------+----------+--------------+-------------------------------------------------------------------------------------------------+-----+\n",
            "|536365   |85123A   |WHITE HANGING HEART T-LIGHT HOLDER|6       |12/1/2010 8:26|2.55     |17850     |United Kingdom|(217926,[14708,25899,29968,34190,48361,57450,57451,57452],[1.0,1.0,1.0,6.0,1.0,2.55,17850.0,1.0])|0.0  |\n",
            "|536365   |71053    |WHITE METAL LANTERN               |6       |12/1/2010 8:26|3.39     |17850     |United Kingdom|(217926,[14708,26296,30411,34190,48361,57450,57451,74286],[1.0,1.0,1.0,6.0,1.0,3.39,17850.0,1.0])|0.0  |\n",
            "+---------+---------+----------------------------------+--------+--------------+---------+----------+--------------+-------------------------------------------------------------------------------------------------+-----+\n",
            "only showing top 2 rows\n",
            "\n"
          ],
          "name": "stdout"
        }
      ]
    },
    {
      "cell_type": "code",
      "metadata": {
        "id": "3aYwVcfV9mTQ",
        "colab_type": "code",
        "colab": {
          "base_uri": "https://localhost:8080/",
          "height": 478
        },
        "outputId": "4a83964f-4cf2-4a56-8a23-ca747ea57604"
      },
      "source": [
        "# SQL Transformer\n",
        "from pyspark.ml.feature import SQLTransformer\n",
        "basicTransformation = SQLTransformer()\\\n",
        "  .setStatement(\"\"\"\n",
        "    SELECT sum(Quantity) TotalQuantity, count(*) TotalCount ,count( StockCode), CustomerID\n",
        "    FROM __THIS__\n",
        "    GROUP BY CustomerID\n",
        "  \"\"\")\n",
        "\n",
        "basicTransformation.transform(sales).show()"
      ],
      "execution_count": 327,
      "outputs": [
        {
          "output_type": "stream",
          "text": [
            "+-------------+----------+----------------+----------+\n",
            "|TotalQuantity|TotalCount|count(StockCode)|CustomerID|\n",
            "+-------------+----------+----------------+----------+\n",
            "|          265|        30|              30|     17420|\n",
            "|          133|         8|               8|     16861|\n",
            "|          567|        86|              86|     16503|\n",
            "|         3065|       302|             302|     15727|\n",
            "|         7430|       224|             224|     17389|\n",
            "|           85|         9|               9|     15447|\n",
            "|          241|        40|              40|     14450|\n",
            "|          286|        86|              86|     13623|\n",
            "|         2051|       187|             187|     13285|\n",
            "|           23|        20|              20|     16339|\n",
            "|           95|        29|              29|     14570|\n",
            "|          224|        88|              88|     16386|\n",
            "|          148|        22|              22|     18024|\n",
            "|          406|       103|             103|     12940|\n",
            "|          729|        30|              30|     17679|\n",
            "|          416|        28|              28|     16574|\n",
            "|          211|        42|              42|     15957|\n",
            "|           25|         4|               4|     13832|\n",
            "|          136|         3|               3|     15619|\n",
            "|          114|        35|              35|     15790|\n",
            "+-------------+----------+----------------+----------+\n",
            "only showing top 20 rows\n",
            "\n"
          ],
          "name": "stdout"
        }
      ]
    },
    {
      "cell_type": "code",
      "metadata": {
        "id": "j29Fpdmn_LDx",
        "colab_type": "code",
        "colab": {
          "base_uri": "https://localhost:8080/",
          "height": 478
        },
        "outputId": "0547770a-7e99-413c-adcb-78133a1f0c35"
      },
      "source": [
        "#Vector Assembler\n",
        "from pyspark.ml.feature import VectorAssembler\n",
        "va=VectorAssembler().setInputCols([\"Quantity\",\"UnitPrice\",\"CustomerID\"])\n",
        "va.transform(sales).show()"
      ],
      "execution_count": 328,
      "outputs": [
        {
          "output_type": "stream",
          "text": [
            "+---------+---------+--------------------+--------+--------------+---------+----------+--------------+------------------------------------+\n",
            "|InvoiceNo|StockCode|         Description|Quantity|   InvoiceDate|UnitPrice|CustomerID|       Country|VectorAssembler_e2324295525e__output|\n",
            "+---------+---------+--------------------+--------+--------------+---------+----------+--------------+------------------------------------+\n",
            "|   536365|   85123A|WHITE HANGING HEA...|       6|12/1/2010 8:26|     2.55|     17850|United Kingdom|                  [6.0,2.55,17850.0]|\n",
            "|   536365|    71053| WHITE METAL LANTERN|       6|12/1/2010 8:26|     3.39|     17850|United Kingdom|                  [6.0,3.39,17850.0]|\n",
            "|   536365|   84406B|CREAM CUPID HEART...|       8|12/1/2010 8:26|     2.75|     17850|United Kingdom|                  [8.0,2.75,17850.0]|\n",
            "|   536365|   84029G|KNITTED UNION FLA...|       6|12/1/2010 8:26|     3.39|     17850|United Kingdom|                  [6.0,3.39,17850.0]|\n",
            "|   536365|   84029E|RED WOOLLY HOTTIE...|       6|12/1/2010 8:26|     3.39|     17850|United Kingdom|                  [6.0,3.39,17850.0]|\n",
            "|   536365|    22752|SET 7 BABUSHKA NE...|       2|12/1/2010 8:26|     7.65|     17850|United Kingdom|                  [2.0,7.65,17850.0]|\n",
            "|   536365|    21730|GLASS STAR FROSTE...|       6|12/1/2010 8:26|     4.25|     17850|United Kingdom|                  [6.0,4.25,17850.0]|\n",
            "|   536366|    22633|HAND WARMER UNION...|       6|12/1/2010 8:28|     1.85|     17850|United Kingdom|                  [6.0,1.85,17850.0]|\n",
            "|   536366|    22632|HAND WARMER RED P...|       6|12/1/2010 8:28|     1.85|     17850|United Kingdom|                  [6.0,1.85,17850.0]|\n",
            "|   536367|    84879|ASSORTED COLOUR B...|      32|12/1/2010 8:34|     1.69|     13047|United Kingdom|                 [32.0,1.69,13047.0]|\n",
            "|   536367|    22745|POPPY'S PLAYHOUSE...|       6|12/1/2010 8:34|      2.1|     13047|United Kingdom|                   [6.0,2.1,13047.0]|\n",
            "|   536367|    22748|POPPY'S PLAYHOUSE...|       6|12/1/2010 8:34|      2.1|     13047|United Kingdom|                   [6.0,2.1,13047.0]|\n",
            "|   536367|    22749|FELTCRAFT PRINCES...|       8|12/1/2010 8:34|     3.75|     13047|United Kingdom|                  [8.0,3.75,13047.0]|\n",
            "|   536367|    22310|IVORY KNITTED MUG...|       6|12/1/2010 8:34|     1.65|     13047|United Kingdom|                  [6.0,1.65,13047.0]|\n",
            "|   536367|    84969|BOX OF 6 ASSORTED...|       6|12/1/2010 8:34|     4.25|     13047|United Kingdom|                  [6.0,4.25,13047.0]|\n",
            "|   536367|    22623|BOX OF VINTAGE JI...|       3|12/1/2010 8:34|     4.95|     13047|United Kingdom|                  [3.0,4.95,13047.0]|\n",
            "|   536367|    22622|BOX OF VINTAGE AL...|       2|12/1/2010 8:34|     9.95|     13047|United Kingdom|                  [2.0,9.95,13047.0]|\n",
            "|   536367|    21754|HOME BUILDING BLO...|       3|12/1/2010 8:34|     5.95|     13047|United Kingdom|                  [3.0,5.95,13047.0]|\n",
            "|   536367|    21755|LOVE BUILDING BLO...|       3|12/1/2010 8:34|     5.95|     13047|United Kingdom|                  [3.0,5.95,13047.0]|\n",
            "|   536367|    21777|RECIPE BOX WITH M...|       4|12/1/2010 8:34|     7.95|     13047|United Kingdom|                  [4.0,7.95,13047.0]|\n",
            "+---------+---------+--------------------+--------+--------------+---------+----------+--------------+------------------------------------+\n",
            "only showing top 20 rows\n",
            "\n"
          ],
          "name": "stdout"
        }
      ]
    },
    {
      "cell_type": "code",
      "metadata": {
        "id": "WFtjUaaqBIZq",
        "colab_type": "code",
        "colab": {
          "base_uri": "https://localhost:8080/",
          "height": 478
        },
        "outputId": "8648b2cd-eb6f-4815-a1f6-2cfcd1071d64"
      },
      "source": [
        "# continuous feature into bucket\n",
        "from pyspark.ml.feature import Bucketizer\n",
        "bucketBorders = [0,1, 5.0, 10.0, 250.0, 600.0]\n",
        "bucketer = Bucketizer().setSplits(bucketBorders).setInputCol(\"Quantity\")\n",
        "bucketer.transform(sales).show()"
      ],
      "execution_count": 329,
      "outputs": [
        {
          "output_type": "stream",
          "text": [
            "+---------+---------+--------------------+--------+--------------+---------+----------+--------------+-------------------------------+\n",
            "|InvoiceNo|StockCode|         Description|Quantity|   InvoiceDate|UnitPrice|CustomerID|       Country|Bucketizer_27919e312464__output|\n",
            "+---------+---------+--------------------+--------+--------------+---------+----------+--------------+-------------------------------+\n",
            "|   536365|   85123A|WHITE HANGING HEA...|       6|12/1/2010 8:26|     2.55|     17850|United Kingdom|                            2.0|\n",
            "|   536365|    71053| WHITE METAL LANTERN|       6|12/1/2010 8:26|     3.39|     17850|United Kingdom|                            2.0|\n",
            "|   536365|   84406B|CREAM CUPID HEART...|       8|12/1/2010 8:26|     2.75|     17850|United Kingdom|                            2.0|\n",
            "|   536365|   84029G|KNITTED UNION FLA...|       6|12/1/2010 8:26|     3.39|     17850|United Kingdom|                            2.0|\n",
            "|   536365|   84029E|RED WOOLLY HOTTIE...|       6|12/1/2010 8:26|     3.39|     17850|United Kingdom|                            2.0|\n",
            "|   536365|    22752|SET 7 BABUSHKA NE...|       2|12/1/2010 8:26|     7.65|     17850|United Kingdom|                            1.0|\n",
            "|   536365|    21730|GLASS STAR FROSTE...|       6|12/1/2010 8:26|     4.25|     17850|United Kingdom|                            2.0|\n",
            "|   536366|    22633|HAND WARMER UNION...|       6|12/1/2010 8:28|     1.85|     17850|United Kingdom|                            2.0|\n",
            "|   536366|    22632|HAND WARMER RED P...|       6|12/1/2010 8:28|     1.85|     17850|United Kingdom|                            2.0|\n",
            "|   536367|    84879|ASSORTED COLOUR B...|      32|12/1/2010 8:34|     1.69|     13047|United Kingdom|                            3.0|\n",
            "|   536367|    22745|POPPY'S PLAYHOUSE...|       6|12/1/2010 8:34|      2.1|     13047|United Kingdom|                            2.0|\n",
            "|   536367|    22748|POPPY'S PLAYHOUSE...|       6|12/1/2010 8:34|      2.1|     13047|United Kingdom|                            2.0|\n",
            "|   536367|    22749|FELTCRAFT PRINCES...|       8|12/1/2010 8:34|     3.75|     13047|United Kingdom|                            2.0|\n",
            "|   536367|    22310|IVORY KNITTED MUG...|       6|12/1/2010 8:34|     1.65|     13047|United Kingdom|                            2.0|\n",
            "|   536367|    84969|BOX OF 6 ASSORTED...|       6|12/1/2010 8:34|     4.25|     13047|United Kingdom|                            2.0|\n",
            "|   536367|    22623|BOX OF VINTAGE JI...|       3|12/1/2010 8:34|     4.95|     13047|United Kingdom|                            1.0|\n",
            "|   536367|    22622|BOX OF VINTAGE AL...|       2|12/1/2010 8:34|     9.95|     13047|United Kingdom|                            1.0|\n",
            "|   536367|    21754|HOME BUILDING BLO...|       3|12/1/2010 8:34|     5.95|     13047|United Kingdom|                            1.0|\n",
            "|   536367|    21755|LOVE BUILDING BLO...|       3|12/1/2010 8:34|     5.95|     13047|United Kingdom|                            1.0|\n",
            "|   536367|    21777|RECIPE BOX WITH M...|       4|12/1/2010 8:34|     7.95|     13047|United Kingdom|                            1.0|\n",
            "+---------+---------+--------------------+--------+--------------+---------+----------+--------------+-------------------------------+\n",
            "only showing top 20 rows\n",
            "\n"
          ],
          "name": "stdout"
        }
      ]
    },
    {
      "cell_type": "code",
      "metadata": {
        "id": "mSeBSGd5CQ0d",
        "colab_type": "code",
        "colab": {}
      },
      "source": [
        "df = spark.read.load(\"master/data/regression\")"
      ],
      "execution_count": 330,
      "outputs": []
    },
    {
      "cell_type": "code",
      "metadata": {
        "id": "TiHmOX0nHFM7",
        "colab_type": "code",
        "colab": {
          "base_uri": "https://localhost:8080/",
          "height": 194
        },
        "outputId": "cd189fbc-0800-4662-f7c3-ce18b45a0d11"
      },
      "source": [
        "df.show()"
      ],
      "execution_count": 331,
      "outputs": [
        {
          "output_type": "stream",
          "text": [
            "+--------------+-----+\n",
            "|      features|label|\n",
            "+--------------+-----+\n",
            "|[3.0,10.1,3.0]|  2.0|\n",
            "| [2.0,1.1,1.0]|  1.0|\n",
            "|[1.0,0.1,-1.0]|  0.0|\n",
            "|[1.0,0.1,-1.0]|  0.0|\n",
            "| [2.0,4.1,1.0]|  2.0|\n",
            "+--------------+-----+\n",
            "\n"
          ],
          "name": "stdout"
        }
      ]
    },
    {
      "cell_type": "markdown",
      "metadata": {
        "id": "4OThHS9KoT8X",
        "colab_type": "text"
      },
      "source": [
        "# Regression"
      ]
    },
    {
      "cell_type": "code",
      "metadata": {
        "id": "f4qZYXdXoWTa",
        "colab_type": "code",
        "colab": {
          "base_uri": "https://localhost:8080/",
          "height": 0
        },
        "outputId": "0384ba82-1574-4657-dfde-2b754e61041d"
      },
      "source": [
        "!curl  -o FremontBridge.csv https://data.seattle.gov/api/views/65db-xm6k/rows.csv?accessType=DOWNLOAD"
      ],
      "execution_count": 332,
      "outputs": [
        {
          "output_type": "stream",
          "text": [
            "  % Total    % Received % Xferd  Average Speed   Time    Time     Time  Current\n",
            "                                 Dload  Upload   Total   Spent    Left  Speed\n",
            "100 4179k    0 4179k    0     0  1217k      0 --:--:--  0:00:03 --:--:-- 1216k\n"
          ],
          "name": "stdout"
        }
      ]
    },
    {
      "cell_type": "code",
      "metadata": {
        "id": "pCGZNvEjoe7u",
        "colab_type": "code",
        "colab": {}
      },
      "source": [
        "import pandas as pd\n",
        "counts = pd.read_csv('FremontBridge.csv',index_col='Date',parse_dates=True)\n",
        "#weather = pd.read_csv('data/BicycleWeather.csv', index_col='DATE', parse_dates=True)\n",
        "# rename columns\n",
        "counts=counts.rename(columns={\"Fremont Bridge Total\":\"DriveThru1\",\"Fremont Bridge East Sidewalk\":\"Catering\",\"Fremont Bridge West Sidewalk\":\"Online\"})\n",
        "\n",
        "#daily sum\n",
        "daily = counts.resample('d').sum()\n",
        "#weekly sum\n",
        "weekly = counts.resample('W').sum()\n",
        "# Monthly\n",
        "montly = counts.resample('M').sum()\n",
        "\n"
      ],
      "execution_count": 333,
      "outputs": []
    },
    {
      "cell_type": "code",
      "metadata": {
        "id": "ZgbttDPHfqfM",
        "colab_type": "code",
        "colab": {
          "base_uri": "https://localhost:8080/",
          "height": 0
        },
        "outputId": "e4734b11-f209-4712-f31a-eeb530e5331d"
      },
      "source": [
        "counts.head()"
      ],
      "execution_count": 334,
      "outputs": [
        {
          "output_type": "execute_result",
          "data": {
            "text/html": [
              "<div>\n",
              "<style scoped>\n",
              "    .dataframe tbody tr th:only-of-type {\n",
              "        vertical-align: middle;\n",
              "    }\n",
              "\n",
              "    .dataframe tbody tr th {\n",
              "        vertical-align: top;\n",
              "    }\n",
              "\n",
              "    .dataframe thead th {\n",
              "        text-align: right;\n",
              "    }\n",
              "</style>\n",
              "<table border=\"1\" class=\"dataframe\">\n",
              "  <thead>\n",
              "    <tr style=\"text-align: right;\">\n",
              "      <th></th>\n",
              "      <th>DriveThru1</th>\n",
              "      <th>Catering</th>\n",
              "      <th>Online</th>\n",
              "    </tr>\n",
              "    <tr>\n",
              "      <th>Date</th>\n",
              "      <th></th>\n",
              "      <th></th>\n",
              "      <th></th>\n",
              "    </tr>\n",
              "  </thead>\n",
              "  <tbody>\n",
              "    <tr>\n",
              "      <th>2012-10-03 00:00:00</th>\n",
              "      <td>13.0</td>\n",
              "      <td>4.0</td>\n",
              "      <td>9.0</td>\n",
              "    </tr>\n",
              "    <tr>\n",
              "      <th>2012-10-03 01:00:00</th>\n",
              "      <td>10.0</td>\n",
              "      <td>4.0</td>\n",
              "      <td>6.0</td>\n",
              "    </tr>\n",
              "    <tr>\n",
              "      <th>2012-10-03 02:00:00</th>\n",
              "      <td>2.0</td>\n",
              "      <td>1.0</td>\n",
              "      <td>1.0</td>\n",
              "    </tr>\n",
              "    <tr>\n",
              "      <th>2012-10-03 03:00:00</th>\n",
              "      <td>5.0</td>\n",
              "      <td>2.0</td>\n",
              "      <td>3.0</td>\n",
              "    </tr>\n",
              "    <tr>\n",
              "      <th>2012-10-03 04:00:00</th>\n",
              "      <td>7.0</td>\n",
              "      <td>6.0</td>\n",
              "      <td>1.0</td>\n",
              "    </tr>\n",
              "  </tbody>\n",
              "</table>\n",
              "</div>"
            ],
            "text/plain": [
              "                     DriveThru1  Catering  Online\n",
              "Date                                             \n",
              "2012-10-03 00:00:00        13.0       4.0     9.0\n",
              "2012-10-03 01:00:00        10.0       4.0     6.0\n",
              "2012-10-03 02:00:00         2.0       1.0     1.0\n",
              "2012-10-03 03:00:00         5.0       2.0     3.0\n",
              "2012-10-03 04:00:00         7.0       6.0     1.0"
            ]
          },
          "metadata": {
            "tags": []
          },
          "execution_count": 334
        }
      ]
    },
    {
      "cell_type": "code",
      "metadata": {
        "id": "dXbsHZMG7RTp",
        "colab_type": "code",
        "colab": {
          "base_uri": "https://localhost:8080/",
          "height": 0
        },
        "outputId": "3a8b6535-edab-46a2-a223-705631f65c5c"
      },
      "source": [
        "daily.head()"
      ],
      "execution_count": 335,
      "outputs": [
        {
          "output_type": "execute_result",
          "data": {
            "text/html": [
              "<div>\n",
              "<style scoped>\n",
              "    .dataframe tbody tr th:only-of-type {\n",
              "        vertical-align: middle;\n",
              "    }\n",
              "\n",
              "    .dataframe tbody tr th {\n",
              "        vertical-align: top;\n",
              "    }\n",
              "\n",
              "    .dataframe thead th {\n",
              "        text-align: right;\n",
              "    }\n",
              "</style>\n",
              "<table border=\"1\" class=\"dataframe\">\n",
              "  <thead>\n",
              "    <tr style=\"text-align: right;\">\n",
              "      <th></th>\n",
              "      <th>DriveThru1</th>\n",
              "      <th>Catering</th>\n",
              "      <th>Online</th>\n",
              "    </tr>\n",
              "    <tr>\n",
              "      <th>Date</th>\n",
              "      <th></th>\n",
              "      <th></th>\n",
              "      <th></th>\n",
              "    </tr>\n",
              "  </thead>\n",
              "  <tbody>\n",
              "    <tr>\n",
              "      <th>2012-10-03</th>\n",
              "      <td>7042.0</td>\n",
              "      <td>3520.0</td>\n",
              "      <td>3522.0</td>\n",
              "    </tr>\n",
              "    <tr>\n",
              "      <th>2012-10-04</th>\n",
              "      <td>6950.0</td>\n",
              "      <td>3416.0</td>\n",
              "      <td>3534.0</td>\n",
              "    </tr>\n",
              "    <tr>\n",
              "      <th>2012-10-05</th>\n",
              "      <td>6296.0</td>\n",
              "      <td>3116.0</td>\n",
              "      <td>3180.0</td>\n",
              "    </tr>\n",
              "    <tr>\n",
              "      <th>2012-10-06</th>\n",
              "      <td>4012.0</td>\n",
              "      <td>2160.0</td>\n",
              "      <td>1852.0</td>\n",
              "    </tr>\n",
              "    <tr>\n",
              "      <th>2012-10-07</th>\n",
              "      <td>4284.0</td>\n",
              "      <td>2382.0</td>\n",
              "      <td>1902.0</td>\n",
              "    </tr>\n",
              "  </tbody>\n",
              "</table>\n",
              "</div>"
            ],
            "text/plain": [
              "            DriveThru1  Catering  Online\n",
              "Date                                    \n",
              "2012-10-03      7042.0    3520.0  3522.0\n",
              "2012-10-04      6950.0    3416.0  3534.0\n",
              "2012-10-05      6296.0    3116.0  3180.0\n",
              "2012-10-06      4012.0    2160.0  1852.0\n",
              "2012-10-07      4284.0    2382.0  1902.0"
            ]
          },
          "metadata": {
            "tags": []
          },
          "execution_count": 335
        }
      ]
    },
    {
      "cell_type": "code",
      "metadata": {
        "id": "f86bRTilp-2S",
        "colab_type": "code",
        "colab": {}
      },
      "source": [
        "daily['total']=daily.sum(axis=1)"
      ],
      "execution_count": 336,
      "outputs": []
    },
    {
      "cell_type": "code",
      "metadata": {
        "id": "OwS5PmANwgnO",
        "colab_type": "code",
        "colab": {
          "base_uri": "https://localhost:8080/",
          "height": 0
        },
        "outputId": "96ea5879-31a3-4b93-f559-141575dd8d0b"
      },
      "source": [
        "daily.head()"
      ],
      "execution_count": 337,
      "outputs": [
        {
          "output_type": "execute_result",
          "data": {
            "text/html": [
              "<div>\n",
              "<style scoped>\n",
              "    .dataframe tbody tr th:only-of-type {\n",
              "        vertical-align: middle;\n",
              "    }\n",
              "\n",
              "    .dataframe tbody tr th {\n",
              "        vertical-align: top;\n",
              "    }\n",
              "\n",
              "    .dataframe thead th {\n",
              "        text-align: right;\n",
              "    }\n",
              "</style>\n",
              "<table border=\"1\" class=\"dataframe\">\n",
              "  <thead>\n",
              "    <tr style=\"text-align: right;\">\n",
              "      <th></th>\n",
              "      <th>DriveThru1</th>\n",
              "      <th>Catering</th>\n",
              "      <th>Online</th>\n",
              "      <th>total</th>\n",
              "    </tr>\n",
              "    <tr>\n",
              "      <th>Date</th>\n",
              "      <th></th>\n",
              "      <th></th>\n",
              "      <th></th>\n",
              "      <th></th>\n",
              "    </tr>\n",
              "  </thead>\n",
              "  <tbody>\n",
              "    <tr>\n",
              "      <th>2012-10-03</th>\n",
              "      <td>7042.0</td>\n",
              "      <td>3520.0</td>\n",
              "      <td>3522.0</td>\n",
              "      <td>14084.0</td>\n",
              "    </tr>\n",
              "    <tr>\n",
              "      <th>2012-10-04</th>\n",
              "      <td>6950.0</td>\n",
              "      <td>3416.0</td>\n",
              "      <td>3534.0</td>\n",
              "      <td>13900.0</td>\n",
              "    </tr>\n",
              "    <tr>\n",
              "      <th>2012-10-05</th>\n",
              "      <td>6296.0</td>\n",
              "      <td>3116.0</td>\n",
              "      <td>3180.0</td>\n",
              "      <td>12592.0</td>\n",
              "    </tr>\n",
              "    <tr>\n",
              "      <th>2012-10-06</th>\n",
              "      <td>4012.0</td>\n",
              "      <td>2160.0</td>\n",
              "      <td>1852.0</td>\n",
              "      <td>8024.0</td>\n",
              "    </tr>\n",
              "    <tr>\n",
              "      <th>2012-10-07</th>\n",
              "      <td>4284.0</td>\n",
              "      <td>2382.0</td>\n",
              "      <td>1902.0</td>\n",
              "      <td>8568.0</td>\n",
              "    </tr>\n",
              "  </tbody>\n",
              "</table>\n",
              "</div>"
            ],
            "text/plain": [
              "            DriveThru1  Catering  Online    total\n",
              "Date                                             \n",
              "2012-10-03      7042.0    3520.0  3522.0  14084.0\n",
              "2012-10-04      6950.0    3416.0  3534.0  13900.0\n",
              "2012-10-05      6296.0    3116.0  3180.0  12592.0\n",
              "2012-10-06      4012.0    2160.0  1852.0   8024.0\n",
              "2012-10-07      4284.0    2382.0  1902.0   8568.0"
            ]
          },
          "metadata": {
            "tags": []
          },
          "execution_count": 337
        }
      ]
    },
    {
      "cell_type": "code",
      "metadata": {
        "id": "DlSmZISwyqSt",
        "colab_type": "code",
        "colab": {}
      },
      "source": [
        "days = ['Mon', 'Tue', 'Wed', 'Thu', 'Fri', 'Sat', 'Sun']\n",
        "for i in range(7):\n",
        "    daily[days[i]] = (daily.index.dayofweek == i).astype(float)"
      ],
      "execution_count": 338,
      "outputs": []
    },
    {
      "cell_type": "code",
      "metadata": {
        "id": "fyYyiloP1G0Z",
        "colab_type": "code",
        "colab": {
          "base_uri": "https://localhost:8080/",
          "height": 0
        },
        "outputId": "b852311d-cfa7-4055-a4d7-d78ac8624c11"
      },
      "source": [
        "daily.head()"
      ],
      "execution_count": 339,
      "outputs": [
        {
          "output_type": "execute_result",
          "data": {
            "text/html": [
              "<div>\n",
              "<style scoped>\n",
              "    .dataframe tbody tr th:only-of-type {\n",
              "        vertical-align: middle;\n",
              "    }\n",
              "\n",
              "    .dataframe tbody tr th {\n",
              "        vertical-align: top;\n",
              "    }\n",
              "\n",
              "    .dataframe thead th {\n",
              "        text-align: right;\n",
              "    }\n",
              "</style>\n",
              "<table border=\"1\" class=\"dataframe\">\n",
              "  <thead>\n",
              "    <tr style=\"text-align: right;\">\n",
              "      <th></th>\n",
              "      <th>DriveThru1</th>\n",
              "      <th>Catering</th>\n",
              "      <th>Online</th>\n",
              "      <th>total</th>\n",
              "      <th>Mon</th>\n",
              "      <th>Tue</th>\n",
              "      <th>Wed</th>\n",
              "      <th>Thu</th>\n",
              "      <th>Fri</th>\n",
              "      <th>Sat</th>\n",
              "      <th>Sun</th>\n",
              "    </tr>\n",
              "    <tr>\n",
              "      <th>Date</th>\n",
              "      <th></th>\n",
              "      <th></th>\n",
              "      <th></th>\n",
              "      <th></th>\n",
              "      <th></th>\n",
              "      <th></th>\n",
              "      <th></th>\n",
              "      <th></th>\n",
              "      <th></th>\n",
              "      <th></th>\n",
              "      <th></th>\n",
              "    </tr>\n",
              "  </thead>\n",
              "  <tbody>\n",
              "    <tr>\n",
              "      <th>2012-10-03</th>\n",
              "      <td>7042.0</td>\n",
              "      <td>3520.0</td>\n",
              "      <td>3522.0</td>\n",
              "      <td>14084.0</td>\n",
              "      <td>0.0</td>\n",
              "      <td>0.0</td>\n",
              "      <td>1.0</td>\n",
              "      <td>0.0</td>\n",
              "      <td>0.0</td>\n",
              "      <td>0.0</td>\n",
              "      <td>0.0</td>\n",
              "    </tr>\n",
              "    <tr>\n",
              "      <th>2012-10-04</th>\n",
              "      <td>6950.0</td>\n",
              "      <td>3416.0</td>\n",
              "      <td>3534.0</td>\n",
              "      <td>13900.0</td>\n",
              "      <td>0.0</td>\n",
              "      <td>0.0</td>\n",
              "      <td>0.0</td>\n",
              "      <td>1.0</td>\n",
              "      <td>0.0</td>\n",
              "      <td>0.0</td>\n",
              "      <td>0.0</td>\n",
              "    </tr>\n",
              "    <tr>\n",
              "      <th>2012-10-05</th>\n",
              "      <td>6296.0</td>\n",
              "      <td>3116.0</td>\n",
              "      <td>3180.0</td>\n",
              "      <td>12592.0</td>\n",
              "      <td>0.0</td>\n",
              "      <td>0.0</td>\n",
              "      <td>0.0</td>\n",
              "      <td>0.0</td>\n",
              "      <td>1.0</td>\n",
              "      <td>0.0</td>\n",
              "      <td>0.0</td>\n",
              "    </tr>\n",
              "    <tr>\n",
              "      <th>2012-10-06</th>\n",
              "      <td>4012.0</td>\n",
              "      <td>2160.0</td>\n",
              "      <td>1852.0</td>\n",
              "      <td>8024.0</td>\n",
              "      <td>0.0</td>\n",
              "      <td>0.0</td>\n",
              "      <td>0.0</td>\n",
              "      <td>0.0</td>\n",
              "      <td>0.0</td>\n",
              "      <td>1.0</td>\n",
              "      <td>0.0</td>\n",
              "    </tr>\n",
              "    <tr>\n",
              "      <th>2012-10-07</th>\n",
              "      <td>4284.0</td>\n",
              "      <td>2382.0</td>\n",
              "      <td>1902.0</td>\n",
              "      <td>8568.0</td>\n",
              "      <td>0.0</td>\n",
              "      <td>0.0</td>\n",
              "      <td>0.0</td>\n",
              "      <td>0.0</td>\n",
              "      <td>0.0</td>\n",
              "      <td>0.0</td>\n",
              "      <td>1.0</td>\n",
              "    </tr>\n",
              "  </tbody>\n",
              "</table>\n",
              "</div>"
            ],
            "text/plain": [
              "            DriveThru1  Catering  Online    total  Mon  ...  Wed  Thu  Fri  Sat  Sun\n",
              "Date                                                    ...                         \n",
              "2012-10-03      7042.0    3520.0  3522.0  14084.0  0.0  ...  1.0  0.0  0.0  0.0  0.0\n",
              "2012-10-04      6950.0    3416.0  3534.0  13900.0  0.0  ...  0.0  1.0  0.0  0.0  0.0\n",
              "2012-10-05      6296.0    3116.0  3180.0  12592.0  0.0  ...  0.0  0.0  1.0  0.0  0.0\n",
              "2012-10-06      4012.0    2160.0  1852.0   8024.0  0.0  ...  0.0  0.0  0.0  1.0  0.0\n",
              "2012-10-07      4284.0    2382.0  1902.0   8568.0  0.0  ...  0.0  0.0  0.0  0.0  1.0\n",
              "\n",
              "[5 rows x 11 columns]"
            ]
          },
          "metadata": {
            "tags": []
          },
          "execution_count": 339
        }
      ]
    },
    {
      "cell_type": "code",
      "metadata": {
        "id": "nTK_TDr50enP",
        "colab_type": "code",
        "colab": {}
      },
      "source": [
        "# Drop any rows with null values\n",
        "daily.dropna(axis=0, how='any', inplace=True)\n",
        "\n",
        "column_names = ['Mon', 'Tue', 'Wed', 'Thu', 'Fri', 'Sat', 'Sun']\n",
        "X = daily[column_names]\n"
      ],
      "execution_count": 340,
      "outputs": []
    },
    {
      "cell_type": "code",
      "metadata": {
        "id": "5bU2_Iaj1uPM",
        "colab_type": "code",
        "colab": {}
      },
      "source": [
        "from sklearn.linear_model import LinearRegression\n",
        "y = daily['total']\n",
        "\n",
        "model = LinearRegression(fit_intercept=False)\n",
        "model.fit(X, y)\n",
        "daily['predicted'] = model.predict(X)"
      ],
      "execution_count": 341,
      "outputs": []
    },
    {
      "cell_type": "code",
      "metadata": {
        "id": "4UKIS_tP2jew",
        "colab_type": "code",
        "colab": {
          "base_uri": "https://localhost:8080/",
          "height": 0
        },
        "outputId": "821b3a08-8a10-4ea4-c356-69bfeee5d3b0"
      },
      "source": [
        "daily.columns"
      ],
      "execution_count": 342,
      "outputs": [
        {
          "output_type": "execute_result",
          "data": {
            "text/plain": [
              "Index(['DriveThru1', 'Catering', 'Online', 'total', 'Mon', 'Tue', 'Wed', 'Thu',\n",
              "       'Fri', 'Sat', 'Sun', 'predicted'],\n",
              "      dtype='object')"
            ]
          },
          "metadata": {
            "tags": []
          },
          "execution_count": 342
        }
      ]
    },
    {
      "cell_type": "markdown",
      "metadata": {
        "id": "1oXEN3oJQyy0",
        "colab_type": "text"
      },
      "source": [
        "# Regression\n"
      ]
    },
    {
      "cell_type": "code",
      "metadata": {
        "id": "2x_3DxIIQ2nD",
        "colab_type": "code",
        "colab": {}
      },
      "source": [
        "netsales=pd.read_csv(\"https://raw.githubusercontent.com/arifmhassan/Spark-Python-Data-Ingestion/master/Data\")"
      ],
      "execution_count": 343,
      "outputs": []
    },
    {
      "cell_type": "code",
      "metadata": {
        "id": "5HSTLw2jRIti",
        "colab_type": "code",
        "colab": {}
      },
      "source": [
        "netsales=netsales.rename(columns={\"Business Date\":\"Date\",\"Location Name\":\"Location\",\"Net Sales Total  (Sum)\":\"NetSales\",\"Number of Guests (Sum)\":\"GuestCount\"})\n"
      ],
      "execution_count": 344,
      "outputs": []
    },
    {
      "cell_type": "code",
      "metadata": {
        "id": "IHsxsYKpXAcm",
        "colab_type": "code",
        "colab": {}
      },
      "source": [
        "netsales=netsales.rename(columns={'Number of Guests  (Sum)':\"GuestCount\"})"
      ],
      "execution_count": 345,
      "outputs": []
    },
    {
      "cell_type": "code",
      "metadata": {
        "id": "tnJCqTfsobmT",
        "colab_type": "code",
        "colab": {}
      },
      "source": [
        "netsales['Date']=pd.to_datetime(netsales['Date'])\n",
        "\n",
        "netsales['Location']=netsales['Location'].astype('float')\n",
        "netsales['GuestCount']=netsales['GuestCount'].astype('float')"
      ],
      "execution_count": 346,
      "outputs": []
    },
    {
      "cell_type": "code",
      "metadata": {
        "id": "9VR2oafdoorR",
        "colab_type": "code",
        "colab": {}
      },
      "source": [
        "netsales=netsales.reset_index('Date')\n"
      ],
      "execution_count": null,
      "outputs": []
    },
    {
      "cell_type": "code",
      "metadata": {
        "id": "E6UBOT8PqZjh",
        "colab_type": "code",
        "colab": {}
      },
      "source": [
        "netsales.info()"
      ],
      "execution_count": null,
      "outputs": []
    },
    {
      "cell_type": "code",
      "metadata": {
        "id": "o629VJygozQW",
        "colab_type": "code",
        "colab": {}
      },
      "source": [
        "daily.info()"
      ],
      "execution_count": null,
      "outputs": []
    },
    {
      "cell_type": "code",
      "metadata": {
        "id": "XajJdhAKhI2M",
        "colab_type": "code",
        "colab": {}
      },
      "source": [
        "#netsales=netsales.set_index('Date')\n",
        "#netsales.head()\n",
        "netsales.resample('d').sum()"
      ],
      "execution_count": null,
      "outputs": []
    },
    {
      "cell_type": "code",
      "metadata": {
        "id": "-B2ouxGkUSCF",
        "colab_type": "code",
        "colab": {}
      },
      "source": [
        "#netsales['Date']=pd.to_datetime(netsales['Date'])\n",
        "netsales['GuestCount']=netsales['GuestCount'].astype('float')\n",
        "netsales['Location']=netsales['Location'].astype('str')"
      ],
      "execution_count": null,
      "outputs": []
    },
    {
      "cell_type": "code",
      "metadata": {
        "id": "M9A1Bg9RVa6I",
        "colab_type": "code",
        "colab": {}
      },
      "source": [
        "netsales.set_index('Date')\n",
        "netsales.resample('d').sum()"
      ],
      "execution_count": null,
      "outputs": []
    },
    {
      "cell_type": "code",
      "metadata": {
        "id": "vn4rZy9TcyHg",
        "colab_type": "code",
        "colab": {}
      },
      "source": [
        "dailynetsales=netsales.groupby([\"Date\",\"Location\"]).sum().reset_index()"
      ],
      "execution_count": null,
      "outputs": []
    },
    {
      "cell_type": "code",
      "metadata": {
        "id": "Uw3hgSNeduNL",
        "colab_type": "code",
        "colab": {}
      },
      "source": [
        "dailynetsales['WeekDay']=dailynetsales['Date'].dt.dayofweek\n",
        "dailynetsales['Day']=dailynetsales['Date'].dt.day\n",
        "dailynetsales['Week']=dailynetsales['Date'].dt.week\n",
        "dailynetsales['Month']=dailynetsales['Date'].dt.month\n",
        "dailynetsales['Year']=dailynetsales['Date'].dt.year"
      ],
      "execution_count": null,
      "outputs": []
    },
    {
      "cell_type": "code",
      "metadata": {
        "id": "HcpHiXbZsEI3",
        "colab_type": "code",
        "colab": {}
      },
      "source": [
        "dailynetsales.info()"
      ],
      "execution_count": null,
      "outputs": []
    },
    {
      "cell_type": "code",
      "metadata": {
        "id": "Y7l4QKoixeJS",
        "colab_type": "code",
        "colab": {}
      },
      "source": [
        "dailynetsales['NumberDate']=dailynetsales['Date'].astype('int')/100000000000"
      ],
      "execution_count": null,
      "outputs": []
    },
    {
      "cell_type": "code",
      "metadata": {
        "id": "fiTYg7v5uB9x",
        "colab_type": "code",
        "colab": {}
      },
      "source": [
        "dailynetsales.head()"
      ],
      "execution_count": null,
      "outputs": []
    },
    {
      "cell_type": "code",
      "metadata": {
        "id": "kxMobefNTE87",
        "colab_type": "code",
        "colab": {}
      },
      "source": [
        "column_names = [ 'Location','NumberDate','Day','Week']\n",
        "X = dailynetsales[column_names]\n",
        "from sklearn.linear_model import LinearRegression\n",
        "y = dailynetsales['GuestCount']\n",
        "\n",
        "from sklearn.linear_model import LinearRegression\n",
        "\n",
        "model = LinearRegression(fit_intercept=False)\n",
        "model.fit(X, y)\n",
        "dailynetsales['predicted'] = model.predict(X)\n",
        "\n",
        "\n"
      ],
      "execution_count": null,
      "outputs": []
    },
    {
      "cell_type": "code",
      "metadata": {
        "id": "mEjBAsyZuvCJ",
        "colab_type": "code",
        "colab": {
          "base_uri": "https://localhost:8080/",
          "height": 647
        },
        "outputId": "9f3e4c92-d107-47b0-e066-2d484ece290c"
      },
      "source": [
        "dailynetsales.head(20)"
      ],
      "execution_count": 377,
      "outputs": [
        {
          "output_type": "execute_result",
          "data": {
            "text/html": [
              "<div>\n",
              "<style scoped>\n",
              "    .dataframe tbody tr th:only-of-type {\n",
              "        vertical-align: middle;\n",
              "    }\n",
              "\n",
              "    .dataframe tbody tr th {\n",
              "        vertical-align: top;\n",
              "    }\n",
              "\n",
              "    .dataframe thead th {\n",
              "        text-align: right;\n",
              "    }\n",
              "</style>\n",
              "<table border=\"1\" class=\"dataframe\">\n",
              "  <thead>\n",
              "    <tr style=\"text-align: right;\">\n",
              "      <th></th>\n",
              "      <th>Date</th>\n",
              "      <th>Location</th>\n",
              "      <th>GuestCount</th>\n",
              "      <th>WeekDay</th>\n",
              "      <th>Day</th>\n",
              "      <th>Week</th>\n",
              "      <th>Month</th>\n",
              "      <th>Year</th>\n",
              "      <th>predicted</th>\n",
              "      <th>NumberDate</th>\n",
              "    </tr>\n",
              "  </thead>\n",
              "  <tbody>\n",
              "    <tr>\n",
              "      <th>0</th>\n",
              "      <td>2019-06-10</td>\n",
              "      <td>2.0</td>\n",
              "      <td>226.0</td>\n",
              "      <td>0</td>\n",
              "      <td>10</td>\n",
              "      <td>24</td>\n",
              "      <td>6</td>\n",
              "      <td>2019</td>\n",
              "      <td>260.625715</td>\n",
              "      <td>15601248.0</td>\n",
              "    </tr>\n",
              "    <tr>\n",
              "      <th>1</th>\n",
              "      <td>2019-06-11</td>\n",
              "      <td>2.0</td>\n",
              "      <td>294.0</td>\n",
              "      <td>1</td>\n",
              "      <td>11</td>\n",
              "      <td>24</td>\n",
              "      <td>6</td>\n",
              "      <td>2019</td>\n",
              "      <td>259.912951</td>\n",
              "      <td>15602112.0</td>\n",
              "    </tr>\n",
              "    <tr>\n",
              "      <th>2</th>\n",
              "      <td>2019-06-12</td>\n",
              "      <td>2.0</td>\n",
              "      <td>179.0</td>\n",
              "      <td>2</td>\n",
              "      <td>12</td>\n",
              "      <td>24</td>\n",
              "      <td>6</td>\n",
              "      <td>2019</td>\n",
              "      <td>259.200186</td>\n",
              "      <td>15602976.0</td>\n",
              "    </tr>\n",
              "    <tr>\n",
              "      <th>3</th>\n",
              "      <td>2019-06-13</td>\n",
              "      <td>2.0</td>\n",
              "      <td>284.0</td>\n",
              "      <td>3</td>\n",
              "      <td>13</td>\n",
              "      <td>24</td>\n",
              "      <td>6</td>\n",
              "      <td>2019</td>\n",
              "      <td>258.487421</td>\n",
              "      <td>15603840.0</td>\n",
              "    </tr>\n",
              "    <tr>\n",
              "      <th>4</th>\n",
              "      <td>2019-06-14</td>\n",
              "      <td>2.0</td>\n",
              "      <td>375.0</td>\n",
              "      <td>4</td>\n",
              "      <td>14</td>\n",
              "      <td>24</td>\n",
              "      <td>6</td>\n",
              "      <td>2019</td>\n",
              "      <td>257.774656</td>\n",
              "      <td>15604704.0</td>\n",
              "    </tr>\n",
              "    <tr>\n",
              "      <th>5</th>\n",
              "      <td>2019-06-15</td>\n",
              "      <td>2.0</td>\n",
              "      <td>302.0</td>\n",
              "      <td>5</td>\n",
              "      <td>15</td>\n",
              "      <td>24</td>\n",
              "      <td>6</td>\n",
              "      <td>2019</td>\n",
              "      <td>257.061892</td>\n",
              "      <td>15605568.0</td>\n",
              "    </tr>\n",
              "    <tr>\n",
              "      <th>6</th>\n",
              "      <td>2019-06-16</td>\n",
              "      <td>2.0</td>\n",
              "      <td>248.0</td>\n",
              "      <td>6</td>\n",
              "      <td>16</td>\n",
              "      <td>24</td>\n",
              "      <td>6</td>\n",
              "      <td>2019</td>\n",
              "      <td>256.349127</td>\n",
              "      <td>15606432.0</td>\n",
              "    </tr>\n",
              "    <tr>\n",
              "      <th>7</th>\n",
              "      <td>2019-06-17</td>\n",
              "      <td>2.0</td>\n",
              "      <td>166.0</td>\n",
              "      <td>0</td>\n",
              "      <td>17</td>\n",
              "      <td>25</td>\n",
              "      <td>6</td>\n",
              "      <td>2019</td>\n",
              "      <td>256.554453</td>\n",
              "      <td>15607296.0</td>\n",
              "    </tr>\n",
              "    <tr>\n",
              "      <th>8</th>\n",
              "      <td>2019-06-18</td>\n",
              "      <td>2.0</td>\n",
              "      <td>201.0</td>\n",
              "      <td>1</td>\n",
              "      <td>18</td>\n",
              "      <td>25</td>\n",
              "      <td>6</td>\n",
              "      <td>2019</td>\n",
              "      <td>255.841688</td>\n",
              "      <td>15608160.0</td>\n",
              "    </tr>\n",
              "    <tr>\n",
              "      <th>9</th>\n",
              "      <td>2019-06-19</td>\n",
              "      <td>2.0</td>\n",
              "      <td>243.0</td>\n",
              "      <td>2</td>\n",
              "      <td>19</td>\n",
              "      <td>25</td>\n",
              "      <td>6</td>\n",
              "      <td>2019</td>\n",
              "      <td>255.128923</td>\n",
              "      <td>15609024.0</td>\n",
              "    </tr>\n",
              "    <tr>\n",
              "      <th>10</th>\n",
              "      <td>2019-06-20</td>\n",
              "      <td>2.0</td>\n",
              "      <td>216.0</td>\n",
              "      <td>3</td>\n",
              "      <td>20</td>\n",
              "      <td>25</td>\n",
              "      <td>6</td>\n",
              "      <td>2019</td>\n",
              "      <td>254.416158</td>\n",
              "      <td>15609888.0</td>\n",
              "    </tr>\n",
              "    <tr>\n",
              "      <th>11</th>\n",
              "      <td>2019-06-21</td>\n",
              "      <td>2.0</td>\n",
              "      <td>288.0</td>\n",
              "      <td>4</td>\n",
              "      <td>21</td>\n",
              "      <td>25</td>\n",
              "      <td>6</td>\n",
              "      <td>2019</td>\n",
              "      <td>253.703394</td>\n",
              "      <td>15610752.0</td>\n",
              "    </tr>\n",
              "    <tr>\n",
              "      <th>12</th>\n",
              "      <td>2019-06-22</td>\n",
              "      <td>2.0</td>\n",
              "      <td>213.0</td>\n",
              "      <td>5</td>\n",
              "      <td>22</td>\n",
              "      <td>25</td>\n",
              "      <td>6</td>\n",
              "      <td>2019</td>\n",
              "      <td>252.990629</td>\n",
              "      <td>15611616.0</td>\n",
              "    </tr>\n",
              "    <tr>\n",
              "      <th>13</th>\n",
              "      <td>2019-06-23</td>\n",
              "      <td>2.0</td>\n",
              "      <td>217.0</td>\n",
              "      <td>6</td>\n",
              "      <td>23</td>\n",
              "      <td>25</td>\n",
              "      <td>6</td>\n",
              "      <td>2019</td>\n",
              "      <td>252.277864</td>\n",
              "      <td>15612480.0</td>\n",
              "    </tr>\n",
              "    <tr>\n",
              "      <th>14</th>\n",
              "      <td>2019-06-24</td>\n",
              "      <td>2.0</td>\n",
              "      <td>151.0</td>\n",
              "      <td>0</td>\n",
              "      <td>24</td>\n",
              "      <td>26</td>\n",
              "      <td>6</td>\n",
              "      <td>2019</td>\n",
              "      <td>252.483190</td>\n",
              "      <td>15613344.0</td>\n",
              "    </tr>\n",
              "    <tr>\n",
              "      <th>15</th>\n",
              "      <td>2019-06-25</td>\n",
              "      <td>2.0</td>\n",
              "      <td>204.0</td>\n",
              "      <td>1</td>\n",
              "      <td>25</td>\n",
              "      <td>26</td>\n",
              "      <td>6</td>\n",
              "      <td>2019</td>\n",
              "      <td>251.770425</td>\n",
              "      <td>15614208.0</td>\n",
              "    </tr>\n",
              "    <tr>\n",
              "      <th>16</th>\n",
              "      <td>2019-06-26</td>\n",
              "      <td>2.0</td>\n",
              "      <td>205.0</td>\n",
              "      <td>2</td>\n",
              "      <td>26</td>\n",
              "      <td>26</td>\n",
              "      <td>6</td>\n",
              "      <td>2019</td>\n",
              "      <td>251.057660</td>\n",
              "      <td>15615072.0</td>\n",
              "    </tr>\n",
              "    <tr>\n",
              "      <th>17</th>\n",
              "      <td>2019-06-27</td>\n",
              "      <td>2.0</td>\n",
              "      <td>204.0</td>\n",
              "      <td>3</td>\n",
              "      <td>27</td>\n",
              "      <td>26</td>\n",
              "      <td>6</td>\n",
              "      <td>2019</td>\n",
              "      <td>250.344895</td>\n",
              "      <td>15615936.0</td>\n",
              "    </tr>\n",
              "    <tr>\n",
              "      <th>18</th>\n",
              "      <td>2019-06-28</td>\n",
              "      <td>2.0</td>\n",
              "      <td>273.0</td>\n",
              "      <td>4</td>\n",
              "      <td>28</td>\n",
              "      <td>26</td>\n",
              "      <td>6</td>\n",
              "      <td>2019</td>\n",
              "      <td>249.632131</td>\n",
              "      <td>15616800.0</td>\n",
              "    </tr>\n",
              "    <tr>\n",
              "      <th>19</th>\n",
              "      <td>2019-06-29</td>\n",
              "      <td>2.0</td>\n",
              "      <td>191.0</td>\n",
              "      <td>5</td>\n",
              "      <td>29</td>\n",
              "      <td>26</td>\n",
              "      <td>6</td>\n",
              "      <td>2019</td>\n",
              "      <td>248.919366</td>\n",
              "      <td>15617664.0</td>\n",
              "    </tr>\n",
              "  </tbody>\n",
              "</table>\n",
              "</div>"
            ],
            "text/plain": [
              "         Date Location  GuestCount  ...  Year   predicted  NumberDate\n",
              "0  2019-06-10      2.0       226.0  ...  2019  260.625715  15601248.0\n",
              "1  2019-06-11      2.0       294.0  ...  2019  259.912951  15602112.0\n",
              "2  2019-06-12      2.0       179.0  ...  2019  259.200186  15602976.0\n",
              "3  2019-06-13      2.0       284.0  ...  2019  258.487421  15603840.0\n",
              "4  2019-06-14      2.0       375.0  ...  2019  257.774656  15604704.0\n",
              "5  2019-06-15      2.0       302.0  ...  2019  257.061892  15605568.0\n",
              "6  2019-06-16      2.0       248.0  ...  2019  256.349127  15606432.0\n",
              "7  2019-06-17      2.0       166.0  ...  2019  256.554453  15607296.0\n",
              "8  2019-06-18      2.0       201.0  ...  2019  255.841688  15608160.0\n",
              "9  2019-06-19      2.0       243.0  ...  2019  255.128923  15609024.0\n",
              "10 2019-06-20      2.0       216.0  ...  2019  254.416158  15609888.0\n",
              "11 2019-06-21      2.0       288.0  ...  2019  253.703394  15610752.0\n",
              "12 2019-06-22      2.0       213.0  ...  2019  252.990629  15611616.0\n",
              "13 2019-06-23      2.0       217.0  ...  2019  252.277864  15612480.0\n",
              "14 2019-06-24      2.0       151.0  ...  2019  252.483190  15613344.0\n",
              "15 2019-06-25      2.0       204.0  ...  2019  251.770425  15614208.0\n",
              "16 2019-06-26      2.0       205.0  ...  2019  251.057660  15615072.0\n",
              "17 2019-06-27      2.0       204.0  ...  2019  250.344895  15615936.0\n",
              "18 2019-06-28      2.0       273.0  ...  2019  249.632131  15616800.0\n",
              "19 2019-06-29      2.0       191.0  ...  2019  248.919366  15617664.0\n",
              "\n",
              "[20 rows x 10 columns]"
            ]
          },
          "metadata": {
            "tags": []
          },
          "execution_count": 377
        }
      ]
    },
    {
      "cell_type": "markdown",
      "metadata": {
        "id": "YmNj1K6YmC3M",
        "colab_type": "text"
      },
      "source": [
        "# Spark Regression"
      ]
    },
    {
      "cell_type": "code",
      "metadata": {
        "id": "8EjkoWonvqcK",
        "colab_type": "code",
        "colab": {
          "base_uri": "https://localhost:8080/",
          "height": 158
        },
        "outputId": "4e717b39-3c01-4df4-d4da-42effd80907c"
      },
      "source": [
        "# regression label and feature feature enginering using R language RF formula\n",
        "from pyspark.ml.feature import RFormula\n",
        "\n",
        "# suppose below is my dataframe \n",
        "dataset = spark.createDataFrame(\n",
        "    [(7, \"TX\", 18, 1.0),\n",
        "     (8, \"PA\", 12, 0.0),\n",
        "     (9, \"NY\", 15, 0.0)],\n",
        "    [\"Store\", \"State\", \"Quantity\", \"OrderType\"])\n",
        "\n",
        "# feature extraction Quatity is label\n",
        "formula = RFormula(\n",
        "    formula=\"Quantity ~ Store + State\",\n",
        "    featuresCol=\"features\",\n",
        "    labelCol=\"label\")\n",
        "\n",
        "output = formula.fit(dataset).transform(dataset)\n",
        "output.select(\"features\", \"label\").show()"
      ],
      "execution_count": 348,
      "outputs": [
        {
          "output_type": "stream",
          "text": [
            "+-------------+-----+\n",
            "|     features|label|\n",
            "+-------------+-----+\n",
            "|[7.0,1.0,0.0]| 18.0|\n",
            "|[8.0,0.0,0.0]| 12.0|\n",
            "|[9.0,0.0,1.0]| 15.0|\n",
            "+-------------+-----+\n",
            "\n"
          ],
          "name": "stdout"
        }
      ]
    },
    {
      "cell_type": "code",
      "metadata": {
        "id": "lFZmMmduvrSM",
        "colab_type": "code",
        "colab": {}
      },
      "source": [
        "# ML \n",
        "from pyspark.ml.regression import LinearRegression\n",
        "lr=LinearRegression(maxIter=10, regParam=0.3, elasticNetParam=0.8)\n",
        "lrModel=lr.fit(output)"
      ],
      "execution_count": 349,
      "outputs": []
    },
    {
      "cell_type": "code",
      "metadata": {
        "id": "kyIItDylvzJ1",
        "colab_type": "code",
        "colab": {
          "base_uri": "https://localhost:8080/",
          "height": 230
        },
        "outputId": "20d138fa-4240-4164-cfc9-5b9ae11e4c31"
      },
      "source": [
        "print(\"Coefficients: %s\" % str(lrModel.coefficients))\n",
        "print(\"Intercept: %s\" % str(lrModel.intercept))\n",
        "print(lrModel.summary.totalIterations)\n",
        "print(lrModel.summary.residuals.show())"
      ],
      "execution_count": 350,
      "outputs": [
        {
          "output_type": "stream",
          "text": [
            "Coefficients: [0.0,4.793987681223805,1.8441350568654684]\n",
            "Intercept: 12.787292420636911\n",
            "11\n",
            "+-------------------+\n",
            "|          residuals|\n",
            "+-------------------+\n",
            "|0.41871989813928323|\n",
            "| -0.787292420636911|\n",
            "| 0.3685725224976206|\n",
            "+-------------------+\n",
            "\n",
            "None\n"
          ],
          "name": "stdout"
        }
      ]
    },
    {
      "cell_type": "code",
      "metadata": {
        "id": "sJ34Rh8gv1z2",
        "colab_type": "code",
        "colab": {
          "base_uri": "https://localhost:8080/",
          "height": 158
        },
        "outputId": "e7b95261-2a44-464c-d27b-4b37360b7678"
      },
      "source": [
        "# my prediction\n",
        "lrModel.summary.predictions.show()"
      ],
      "execution_count": 351,
      "outputs": [
        {
          "output_type": "stream",
          "text": [
            "+-----+-----+--------+---------+-------------+-----+------------------+\n",
            "|Store|State|Quantity|OrderType|     features|label|        prediction|\n",
            "+-----+-----+--------+---------+-------------+-----+------------------+\n",
            "|    7|   TX|      18|      1.0|[7.0,1.0,0.0]| 18.0|17.581280101860717|\n",
            "|    8|   PA|      12|      0.0|[8.0,0.0,0.0]| 12.0|12.787292420636911|\n",
            "|    9|   NY|      15|      0.0|[9.0,0.0,1.0]| 15.0| 14.63142747750238|\n",
            "+-----+-----+--------+---------+-------------+-----+------------------+\n",
            "\n"
          ],
          "name": "stdout"
        }
      ]
    },
    {
      "cell_type": "code",
      "metadata": {
        "id": "zxS0ctKgwAaZ",
        "colab_type": "code",
        "colab": {}
      },
      "source": [
        "#scratch\n",
        "formula = RFormula(\n",
        "    formula=\"Quantity ~ Store + State\",\n",
        "    featuresCol=\"features\",\n",
        "    labelCol=\"label\")\n",
        "\n",
        "output = formula.fit(dataset).transform(dataset)\n",
        "output.select(\"features\", \"label\").show()"
      ],
      "execution_count": null,
      "outputs": []
    },
    {
      "cell_type": "code",
      "metadata": {
        "id": "Ejfz45FwwCwJ",
        "colab_type": "code",
        "colab": {}
      },
      "source": [
        "salesdf=spark.createDataFrame( dailynetsales[['Date','Location','Day','Week','Year','GuestCount']])"
      ],
      "execution_count": 364,
      "outputs": []
    },
    {
      "cell_type": "code",
      "metadata": {
        "id": "D0b8PusEyWvV",
        "colab_type": "code",
        "colab": {
          "base_uri": "https://localhost:8080/",
          "height": 123
        },
        "outputId": "9e2f308c-0427-47ff-f18b-0e6a98fa91de"
      },
      "source": [
        "salesdf.select(\"Location\").distinct().show()"
      ],
      "execution_count": 372,
      "outputs": [
        {
          "output_type": "stream",
          "text": [
            "+--------+\n",
            "|Location|\n",
            "+--------+\n",
            "|     2.0|\n",
            "+--------+\n",
            "\n"
          ],
          "name": "stdout"
        }
      ]
    },
    {
      "cell_type": "code",
      "metadata": {
        "id": "A1zlUtFXw7zF",
        "colab_type": "code",
        "colab": {}
      },
      "source": [
        "salesdf.show(1,False)\n",
        "#feature engineering\n",
        "formula = RFormula(\n",
        "    formula=\"GuestCount ~  Day+Week+Year\",\n",
        "    featuresCol=\"features\",\n",
        "    labelCol=\"label\")\n",
        "\n",
        "output = formula.fit(salesdf).transform(salesdf)\n",
        "output.select(\"features\", \"label\").show()"
      ],
      "execution_count": null,
      "outputs": []
    },
    {
      "cell_type": "code",
      "metadata": {
        "id": "JPYxavtpx0bA",
        "colab_type": "code",
        "colab": {
          "base_uri": "https://localhost:8080/",
          "height": 665
        },
        "outputId": "4f202138-baad-4ef1-ef9e-13f8f562afdd"
      },
      "source": [
        "# ML \n",
        "from pyspark.ml.regression import LinearRegression\n",
        "lr=LinearRegression(maxIter=10, regParam=0.3, elasticNetParam=0.8)\n",
        "lrModel=lr.fit(output)\n",
        "# my prediction\n",
        "lrModel.summary.predictions.show().sort(Descending=True)"
      ],
      "execution_count": 376,
      "outputs": [
        {
          "output_type": "stream",
          "text": [
            "+-------------------+--------+---+----+----+----------+------------------+-----+------------------+\n",
            "|               Date|Location|Day|Week|Year|GuestCount|          features|label|        prediction|\n",
            "+-------------------+--------+---+----+----+----------+------------------+-----+------------------+\n",
            "|2019-06-10 00:00:00|     2.0| 10|  24|2019|     226.0|[10.0,24.0,2019.0]|226.0| 254.6847596147458|\n",
            "|2019-06-11 00:00:00|     2.0| 11|  24|2019|     294.0|[11.0,24.0,2019.0]|294.0|254.08995092162905|\n",
            "|2019-06-12 00:00:00|     2.0| 12|  24|2019|     179.0|[12.0,24.0,2019.0]|179.0| 253.4951422285123|\n",
            "|2019-06-13 00:00:00|     2.0| 13|  24|2019|     284.0|[13.0,24.0,2019.0]|284.0|252.90033353539556|\n",
            "|2019-06-14 00:00:00|     2.0| 14|  24|2019|     375.0|[14.0,24.0,2019.0]|375.0|252.30552484227883|\n",
            "|2019-06-15 00:00:00|     2.0| 15|  24|2019|     302.0|[15.0,24.0,2019.0]|302.0|251.71071614916207|\n",
            "|2019-06-16 00:00:00|     2.0| 16|  24|2019|     248.0|[16.0,24.0,2019.0]|248.0|251.11590745604533|\n",
            "|2019-06-17 00:00:00|     2.0| 17|  25|2019|     166.0|[17.0,25.0,2019.0]|166.0|250.24850717821266|\n",
            "|2019-06-18 00:00:00|     2.0| 18|  25|2019|     201.0|[18.0,25.0,2019.0]|201.0|249.65369848509593|\n",
            "|2019-06-19 00:00:00|     2.0| 19|  25|2019|     243.0|[19.0,25.0,2019.0]|243.0| 249.0588897919792|\n",
            "|2019-06-20 00:00:00|     2.0| 20|  25|2019|     216.0|[20.0,25.0,2019.0]|216.0|248.46408109886244|\n",
            "|2019-06-21 00:00:00|     2.0| 21|  25|2019|     288.0|[21.0,25.0,2019.0]|288.0| 247.8692724057457|\n",
            "|2019-06-22 00:00:00|     2.0| 22|  25|2019|     213.0|[22.0,25.0,2019.0]|213.0|247.27446371262894|\n",
            "|2019-06-23 00:00:00|     2.0| 23|  25|2019|     217.0|[23.0,25.0,2019.0]|217.0| 246.6796550195122|\n",
            "|2019-06-24 00:00:00|     2.0| 24|  26|2019|     151.0|[24.0,26.0,2019.0]|151.0|245.81225474167957|\n",
            "|2019-06-25 00:00:00|     2.0| 25|  26|2019|     204.0|[25.0,26.0,2019.0]|204.0| 245.2174460485628|\n",
            "|2019-06-26 00:00:00|     2.0| 26|  26|2019|     205.0|[26.0,26.0,2019.0]|205.0|244.62263735544607|\n",
            "|2019-06-27 00:00:00|     2.0| 27|  26|2019|     204.0|[27.0,26.0,2019.0]|204.0| 244.0278286623293|\n",
            "|2019-06-28 00:00:00|     2.0| 28|  26|2019|     273.0|[28.0,26.0,2019.0]|273.0|243.43301996921258|\n",
            "|2019-06-29 00:00:00|     2.0| 29|  26|2019|     191.0|[29.0,26.0,2019.0]|191.0|242.83821127609582|\n",
            "+-------------------+--------+---+----+----+----------+------------------+-----+------------------+\n",
            "only showing top 20 rows\n",
            "\n"
          ],
          "name": "stdout"
        },
        {
          "output_type": "error",
          "ename": "AttributeError",
          "evalue": "ignored",
          "traceback": [
            "\u001b[0;31m---------------------------------------------------------------------------\u001b[0m",
            "\u001b[0;31mAttributeError\u001b[0m                            Traceback (most recent call last)",
            "\u001b[0;32m<ipython-input-376-f17af220f0c1>\u001b[0m in \u001b[0;36m<module>\u001b[0;34m()\u001b[0m\n\u001b[1;32m      4\u001b[0m \u001b[0mlrModel\u001b[0m\u001b[0;34m=\u001b[0m\u001b[0mlr\u001b[0m\u001b[0;34m.\u001b[0m\u001b[0mfit\u001b[0m\u001b[0;34m(\u001b[0m\u001b[0moutput\u001b[0m\u001b[0;34m)\u001b[0m\u001b[0;34m\u001b[0m\u001b[0;34m\u001b[0m\u001b[0m\n\u001b[1;32m      5\u001b[0m \u001b[0;31m# my prediction\u001b[0m\u001b[0;34m\u001b[0m\u001b[0;34m\u001b[0m\u001b[0;34m\u001b[0m\u001b[0m\n\u001b[0;32m----> 6\u001b[0;31m \u001b[0mlrModel\u001b[0m\u001b[0;34m.\u001b[0m\u001b[0msummary\u001b[0m\u001b[0;34m.\u001b[0m\u001b[0mpredictions\u001b[0m\u001b[0;34m.\u001b[0m\u001b[0mshow\u001b[0m\u001b[0;34m(\u001b[0m\u001b[0;34m)\u001b[0m\u001b[0;34m.\u001b[0m\u001b[0msort\u001b[0m\u001b[0;34m(\u001b[0m\u001b[0mDescending\u001b[0m\u001b[0;34m=\u001b[0m\u001b[0;32mTrue\u001b[0m\u001b[0;34m)\u001b[0m\u001b[0;34m\u001b[0m\u001b[0;34m\u001b[0m\u001b[0m\n\u001b[0m",
            "\u001b[0;31mAttributeError\u001b[0m: 'NoneType' object has no attribute 'sort'"
          ]
        }
      ]
    },
    {
      "cell_type": "code",
      "metadata": {
        "id": "dXsL29vSxu2q",
        "colab_type": "code",
        "colab": {}
      },
      "source": [
        "print(\"Coefficients: %s\" % str(lrModel.coefficients))\n",
        "print(\"Intercept: %s\" % str(lrModel.intercept))\n",
        "print(lrModel.summary.totalIterations)\n",
        "print(lrModel.summary.residuals.show())"
      ],
      "execution_count": null,
      "outputs": []
    }
  ]
}