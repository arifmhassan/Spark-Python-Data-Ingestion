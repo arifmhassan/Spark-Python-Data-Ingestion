{
  "nbformat": 4,
  "nbformat_minor": 0,
  "metadata": {
    "colab": {
      "name": "RetailSales_pyspark.ipynb",
      "provenance": [],
      "authorship_tag": "ABX9TyOE5BPI4yvaQXkG3Idz2cSN",
      "include_colab_link": true
    },
    "kernelspec": {
      "name": "python3",
      "display_name": "Python 3"
    }
  },
  "cells": [
    {
      "cell_type": "markdown",
      "metadata": {
        "id": "view-in-github",
        "colab_type": "text"
      },
      "source": [
        "<a href=\"https://colab.research.google.com/github/arifmhassan/Spark-Python-Data-Ingestion/blob/master/RetailSales_pyspark.ipynb\" target=\"_parent\"><img src=\"https://colab.research.google.com/assets/colab-badge.svg\" alt=\"Open In Colab\"/></a>"
      ]
    },
    {
      "cell_type": "code",
      "metadata": {
        "id": "k98cO0DP8cwx",
        "colab_type": "code",
        "colab": {}
      },
      "source": [
        "ta"
      ],
      "execution_count": null,
      "outputs": []
    },
    {
      "cell_type": "markdown",
      "metadata": {
        "id": "NlgHrhnh5s3s",
        "colab_type": "text"
      },
      "source": [
        "#Aggregations\n",
        "Primary Data source=online-retail-dataset.csv\n",
        "purpose: Aggregation using groupby, windows, rollup, sql like dense ranking\n",
        "\n",
        "Question\n",
        "*   dataframe read  the data online-retail-dataset.csv with 5 partition\n",
        "*   Data analysis count distinct e.g. stockcode, min quantity, max quantity, sum of quantity, sum of revenue by Country, CUstomer, date, hour  etc\n",
        "\n",
        "*   Whick date has the maximum  purchase quantity using dense_rank in sql and python\n",
        "*   group by accross country/date/ quantity using rollup and cube\n",
        "*    group by accross country/date/ quantity using pivot to get country listing in a column\n",
        "\n"
      ]
    },
    {
      "cell_type": "code",
      "metadata": {
        "id": "rbxHIFBwJE7I",
        "colab_type": "code",
        "colab": {
          "base_uri": "https://localhost:8080/",
          "height": 35
        },
        "outputId": "926f1169-cbef-4d3b-ba44-04406ce4f048"
      },
      "source": [
        "# "
      ],
      "execution_count": 1,
      "outputs": [
        {
          "output_type": "stream",
          "text": [
            "\u001b[0m\u001b[01;34msample_data\u001b[0m/\n"
          ],
          "name": "stdout"
        }
      ]
    }
  ]
}